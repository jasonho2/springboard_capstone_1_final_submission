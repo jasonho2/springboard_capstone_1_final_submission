{
 "cells": [
  {
   "cell_type": "markdown",
   "metadata": {},
   "source": [
    "# Springboard Capstone Project 1 Final Submission - Edits\n",
    "\n",
    "I made additional edits to my capstone 1 project submission. I did not predict on the younger players who have not yet been in the NBA for 5 years but I have included it here. I have also included a support vector machine approach."
   ]
  },
  {
   "cell_type": "code",
   "execution_count": 1,
   "metadata": {
    "collapsed": true
   },
   "outputs": [],
   "source": [
    "# import all necessary libraries\n",
    "\n",
    "from sklearn.linear_model import LogisticRegression\n",
    "from sklearn.metrics import confusion_matrix, classification_report, accuracy_score, roc_auc_score\n",
    "from sklearn.model_selection import cross_val_score, train_test_split, GridSearchCV, KFold\n",
    "from sklearn.neighbors import KNeighborsClassifier\n",
    "from sklearn.preprocessing import MinMaxScaler\n",
    "from sklearn import svm\n",
    "\n",
    "import pandas as pd\n",
    "import numpy as np\n",
    "import matplotlib.pyplot as plt\n",
    "from matplotlib.colors import ListedColormap\n",
    "%matplotlib inline\n",
    "\n",
    "import seaborn as sns\n",
    "sns.set()"
   ]
  },
  {
   "cell_type": "code",
   "execution_count": 2,
   "metadata": {},
   "outputs": [],
   "source": [
    "# import data and create separate dataframes\n",
    "\n",
    "nba_rookie_data = pd.read_csv(\"C:/Users/jho/Desktop/data_science/nba_rookie_data.csv\")\n",
    "nba_rookie_data = nba_rookie_data.drop(['Unnamed: 0', 'Unnamed: 0.1'], axis=1)\n",
    "## drop the name or not?\n",
    "#nba_rookie_data = nba_rookie_data.drop(['Name'], axis=1)\n",
    "\n",
    "# players who have played for at least 5 years\n",
    "players_yes = nba_rookie_data[nba_rookie_data['TARGET_5Yrs'] == 1]\n",
    "\n",
    "# players who have not played for at least 5 years\n",
    "players_no = nba_rookie_data[nba_rookie_data['TARGET_5Yrs'] == 0]\n",
    "players_no = players_no[players_no['Year Drafted'] <= 2012]\n",
    "\n",
    "# young players who have not yet been in the league for five years\n",
    "players_new = nba_rookie_data[nba_rookie_data['Year Drafted'] > 2012].drop('Year Drafted', axis=1)\n",
    "\n",
    "# set of players who were drafted at least 5 years ago\n",
    "players_old = nba_rookie_data[nba_rookie_data['Year Drafted'] <= 2012].drop('Year Drafted', axis=1)\n",
    "#players_old.info()"
   ]
  },
  {
   "cell_type": "code",
   "execution_count": 3,
   "metadata": {
    "collapsed": true
   },
   "outputs": [],
   "source": [
    "# create columns for training the model\n",
    "\n",
    "cols = ['GP', 'MIN', 'PTS', 'FGM', 'FGA', 'FG%', '3P Made', '3PA', '3P%', 'FTM', 'FTA', 'FT%', 'OREB', 'DREB', 'REB', 'AST', 'STL', 'BLK', 'TOV', 'EFF']\n",
    "X = players_old.reindex(columns=cols)\n",
    "y = players_old.reindex(columns=['TARGET_5Yrs']).astype(int)"
   ]
  },
  {
   "cell_type": "code",
   "execution_count": 4,
   "metadata": {},
   "outputs": [
    {
     "name": "stdout",
     "output_type": "stream",
     "text": [
      "[[ 45  62]\n",
      " [ 28 173]]\n",
      "             precision    recall  f1-score   support\n",
      "\n",
      "          0       0.62      0.42      0.50       107\n",
      "          1       0.74      0.86      0.79       201\n",
      "\n",
      "avg / total       0.69      0.71      0.69       308\n",
      "\n",
      "0.707792207792\n"
     ]
    },
    {
     "name": "stderr",
     "output_type": "stream",
     "text": [
      "C:\\Users\\jho\\AppData\\Local\\Continuum\\anaconda3\\lib\\site-packages\\sklearn\\utils\\validation.py:578: DataConversionWarning: A column-vector y was passed when a 1d array was expected. Please change the shape of y to (n_samples, ), for example using ravel().\n",
      "  y = column_or_1d(y, warn=True)\n"
     ]
    }
   ],
   "source": [
    "# for all players where it has been at least five years from their rookie season. \n",
    "\n",
    "# split data for training and testing\n",
    "X_train, X_test, y_train, y_test = train_test_split(X.values, y.values)\n",
    "\n",
    "# create the logreg classifier\n",
    "logreg = LogisticRegression()\n",
    "\n",
    "# fit the classifier to the training data\n",
    "logreg.fit(X_train, y_train)\n",
    "\n",
    "# predict the labels of the test set\n",
    "y_pred = logreg.predict(X_test)\n",
    "\n",
    "# confusion matrix, classification report, and accuracy score\n",
    "print(confusion_matrix(y_test, y_pred))\n",
    "print(classification_report(y_test, y_pred))\n",
    "print(accuracy_score(y_pred, y_test))"
   ]
  },
  {
   "cell_type": "markdown",
   "metadata": {},
   "source": [
    "Prediction accuracy for logistic regression on the testing set this run is 70.78%, similar to the score I got previously."
   ]
  },
  {
   "cell_type": "code",
   "execution_count": 5,
   "metadata": {
    "scrolled": true
   },
   "outputs": [
    {
     "name": "stdout",
     "output_type": "stream",
     "text": [
      "[[30 68]\n",
      " [ 0  0]]\n",
      "             precision    recall  f1-score   support\n",
      "\n",
      "          0       1.00      0.31      0.47        98\n",
      "          1       0.00      0.00      0.00         0\n",
      "\n",
      "avg / total       1.00      0.31      0.47        98\n",
      "\n",
      "0.30612244898\n"
     ]
    },
    {
     "name": "stderr",
     "output_type": "stream",
     "text": [
      "C:\\Users\\jho\\AppData\\Local\\Continuum\\anaconda3\\lib\\site-packages\\sklearn\\utils\\validation.py:578: DataConversionWarning: A column-vector y was passed when a 1d array was expected. Please change the shape of y to (n_samples, ), for example using ravel().\n",
      "  y = column_or_1d(y, warn=True)\n",
      "C:\\Users\\jho\\AppData\\Local\\Continuum\\anaconda3\\lib\\site-packages\\sklearn\\metrics\\classification.py:1137: UndefinedMetricWarning: Recall and F-score are ill-defined and being set to 0.0 in labels with no true samples.\n",
      "  'recall', 'true', average, warn_for)\n"
     ]
    }
   ],
   "source": [
    "# predict the label for the younger players (< 5 years).\n",
    "\n",
    "# split data for training and testing\n",
    "X_train, X_test, y_train, y_test = train_test_split(X.values, y.values, test_size=0)\n",
    "\n",
    "# create the logreg classifier\n",
    "logreg = LogisticRegression()\n",
    "\n",
    "# fit the classifier to the training data\n",
    "logreg.fit(X_train, y_train)\n",
    "\n",
    "# predict the labels of the test set\n",
    "y_pred = logreg.predict(players_new[cols])\n",
    "\n",
    "# confusion matrix, classification report, and accuracy score\n",
    "print(confusion_matrix(players_new['TARGET_5Yrs'], y_pred))\n",
    "print(classification_report(players_new['TARGET_5Yrs'], y_pred))\n",
    "print(accuracy_score(y_pred, players_new['TARGET_5Yrs']))"
   ]
  },
  {
   "cell_type": "markdown",
   "metadata": {},
   "source": [
    "A confusion matrix is generated as:\n",
    "\n",
    "True Negative  |  False Positive\n",
    "             _ _ _\n",
    "False Negative |  True Positive\n",
    "\n",
    "Since all of the younger players whose rookie season was less than 5 years ago, their classified labels are 0. I used train_test_split to create training and testing data sets on the older players. Since the testing dataset is the younger rookie players, I set the test_size to 0 and substituted players_new as the y_test. The true negatives were 30/98 and the false positives were 68/98. The false positives represent the younger players who were 'incorrectly classified' or predicted to have played in the NBA for 5 years. This ratio of predicting talented young players is about 69%, which is very close to the accuracy of the predictions on the older players!"
   ]
  },
  {
   "cell_type": "markdown",
   "metadata": {},
   "source": [
    "Here is my KNN approach for older players."
   ]
  },
  {
   "cell_type": "code",
   "execution_count": 6,
   "metadata": {},
   "outputs": [
    {
     "name": "stderr",
     "output_type": "stream",
     "text": [
      "C:\\Users\\jho\\AppData\\Local\\Continuum\\anaconda3\\lib\\site-packages\\ipykernel_launcher.py:15: DataConversionWarning: A column-vector y was passed when a 1d array was expected. Please change the shape of y to (n_samples, ), for example using ravel().\n",
      "  from ipykernel import kernelapp as app\n"
     ]
    },
    {
     "data": {
      "image/png": "[encoded data removed]",
      "text/plain": [
       "<matplotlib.figure.Figure at 0x20fed48b38>"
      ]
     },
     "metadata": {},
     "output_type": "display_data"
    }
   ],
   "source": [
    "# split data for training and testing\n",
    "X_train, X_test, y_train, y_test = train_test_split(players_old[cols].values, players_old[['TARGET_5Yrs']].values)\n",
    "\n",
    "# Setup arrays to store train and test accuracies\n",
    "neighbors = np.arange(1, 9)\n",
    "train_accuracy = np.empty(len(neighbors))\n",
    "test_accuracy = np.empty(len(neighbors))\n",
    "\n",
    "# Loop over different values of k\n",
    "for i, k in enumerate(neighbors):\n",
    "    # Setup a k-NN Classifier with k neighbors: knn\n",
    "    knn = KNeighborsClassifier(n_neighbors = k)\n",
    "\n",
    "    # Fit the classifier to the training data\n",
    "    knn.fit(X_train, y_train)\n",
    "    \n",
    "    #Compute accuracy on the training set\n",
    "    train_accuracy[i] = knn.score(X_train, y_train)\n",
    "\n",
    "    #Compute accuracy on the testing set\n",
    "    test_accuracy[i] = knn.score(X_test, y_test)\n",
    "\n",
    "# Generate plot\n",
    "plt.title('k-NN: Varying Number of Neighbors')\n",
    "plt.plot(neighbors, test_accuracy, label = 'Testing Accuracy')\n",
    "plt.plot(neighbors, train_accuracy, label = 'Training Accuracy')\n",
    "plt.legend()\n",
    "plt.xlabel('Number of Neighbors')\n",
    "plt.ylabel('Accuracy')\n",
    "plt.show()"
   ]
  },
  {
   "cell_type": "code",
   "execution_count": 7,
   "metadata": {},
   "outputs": [
    {
     "name": "stdout",
     "output_type": "stream",
     "text": [
      "0.733766233766\n"
     ]
    },
    {
     "name": "stderr",
     "output_type": "stream",
     "text": [
      "C:\\Users\\jho\\AppData\\Local\\Continuum\\anaconda3\\lib\\site-packages\\ipykernel_launcher.py:5: DataConversionWarning: A column-vector y was passed when a 1d array was expected. Please change the shape of y to (n_samples, ), for example using ravel().\n",
      "  \"\"\"\n"
     ]
    }
   ],
   "source": [
    "# Create a k-NN classifier with 5 neighbors: knn\n",
    "knn = KNeighborsClassifier(n_neighbors = 5)\n",
    "\n",
    "# Fit the classifier to the training data\n",
    "knn.fit(X_train, y_train)\n",
    "\n",
    "# Print the accuracy\n",
    "print(knn.score(X_test, y_test))"
   ]
  },
  {
   "cell_type": "markdown",
   "metadata": {},
   "source": [
    "k-value with the highest accuracy on the testing data is 5. The prediction accuracy for KNN in 73.38%, slightly higher than logistic regression.\n",
    "\n",
    "Next I will compare KNN to Support Vector Machine."
   ]
  },
  {
   "cell_type": "code",
   "execution_count": 8,
   "metadata": {
    "collapsed": true
   },
   "outputs": [],
   "source": [
    "# columns for training the SVM model\n",
    "\n",
    "stats = players_old[['GP', 'MIN', 'PTS', 'FGM', 'FGA', 'FG%', '3P Made', '3PA', '3P%', 'FTM', 'FTA', 'FT%', 'OREB', 'DREB', 'REB', 'AST', 'STL', 'BLK', 'TOV', 'EFF']].as_matrix()\n",
    "player_label = np.where(players_old['TARGET_5Yrs'] == 1, 0,1)"
   ]
  },
  {
   "cell_type": "code",
   "execution_count": 9,
   "metadata": {},
   "outputs": [
    {
     "name": "stdout",
     "output_type": "stream",
     "text": [
      "[0 0 0 ..., 0 1 1]\n"
     ]
    }
   ],
   "source": [
    "# radial basis function kernel\n",
    "\n",
    "model = svm.SVC(kernel='rbf', gamma='auto')\n",
    "model.fit(stats, player_label)\n",
    "prediction = model.predict(stats)\n",
    "print(prediction)"
   ]
  },
  {
   "cell_type": "code",
   "execution_count": 10,
   "metadata": {},
   "outputs": [
    {
     "name": "stdout",
     "output_type": "stream",
     "text": [
      "[[814   6]\n",
      " [ 51 359]]\n",
      "             precision    recall  f1-score   support\n",
      "\n",
      "          0       0.94      0.99      0.97       820\n",
      "          1       0.98      0.88      0.93       410\n",
      "\n",
      "avg / total       0.96      0.95      0.95      1230\n",
      "\n",
      "0.953658536585\n"
     ]
    }
   ],
   "source": [
    "print(confusion_matrix(player_label, prediction))\n",
    "print(classification_report(player_label, prediction))\n",
    "print(accuracy_score(prediction, player_label))"
   ]
  },
  {
   "cell_type": "markdown",
   "metadata": {},
   "source": [
    "The RBF kernel returns the highest prediction accuracy of 95.37%. This kernel works best for nonlinear problems. "
   ]
  },
  {
   "cell_type": "code",
   "execution_count": 11,
   "metadata": {},
   "outputs": [
    {
     "name": "stdout",
     "output_type": "stream",
     "text": [
      "[0 0 0 ..., 1 1 1]\n"
     ]
    }
   ],
   "source": [
    "# linear kernel\n",
    "\n",
    "model = svm.SVC(kernel='linear')\n",
    "model.fit(stats, player_label)\n",
    "prediction = model.predict(stats)\n",
    "print(prediction)"
   ]
  },
  {
   "cell_type": "code",
   "execution_count": 12,
   "metadata": {},
   "outputs": [
    {
     "name": "stdout",
     "output_type": "stream",
     "text": [
      "[[722  98]\n",
      " [240 170]]\n",
      "             precision    recall  f1-score   support\n",
      "\n",
      "          0       0.75      0.88      0.81       820\n",
      "          1       0.63      0.41      0.50       410\n",
      "\n",
      "avg / total       0.71      0.73      0.71      1230\n",
      "\n",
      "0.725203252033\n"
     ]
    }
   ],
   "source": [
    "print(confusion_matrix(player_label, prediction))\n",
    "print(classification_report(player_label, prediction))\n",
    "print(accuracy_score(prediction, player_label))"
   ]
  },
  {
   "cell_type": "markdown",
   "metadata": {},
   "source": [
    "The linear kernel performs about the same as the logistic regression model. Since both approaches are linear, the models are not optimal for the type of problem I have with multidimensional (likely nolinear) data."
   ]
  },
  {
   "cell_type": "code",
   "execution_count": 13,
   "metadata": {},
   "outputs": [],
   "source": [
    "# polynomial kernel. training the model took forever so i normalized the stats columns.\n",
    "\n",
    "scaler = MinMaxScaler()\n",
    "X = scaler.fit_transform(stats)\n",
    "\n",
    "model_poly = svm.SVC(kernel='poly', degree=3)\n",
    "model_poly.fit(X, player_label)\n",
    "model_poly_prediction = model_poly.predict(X)"
   ]
  },
  {
   "cell_type": "code",
   "execution_count": 14,
   "metadata": {
    "scrolled": true
   },
   "outputs": [
    {
     "name": "stdout",
     "output_type": "stream",
     "text": [
      "[[820   0]\n",
      " [410   0]]\n",
      "             precision    recall  f1-score   support\n",
      "\n",
      "          0       0.67      1.00      0.80       820\n",
      "          1       0.00      0.00      0.00       410\n",
      "\n",
      "avg / total       0.44      0.67      0.53      1230\n",
      "\n",
      "0.666666666667\n"
     ]
    },
    {
     "name": "stderr",
     "output_type": "stream",
     "text": [
      "C:\\Users\\jho\\AppData\\Local\\Continuum\\anaconda3\\lib\\site-packages\\sklearn\\metrics\\classification.py:1135: UndefinedMetricWarning: Precision and F-score are ill-defined and being set to 0.0 in labels with no predicted samples.\n",
      "  'precision', 'predicted', average, warn_for)\n"
     ]
    }
   ],
   "source": [
    "print(confusion_matrix(player_label, model_poly_prediction))\n",
    "print(classification_report(player_label, model_poly_prediction))\n",
    "print(accuracy_score(model_poly_prediction, player_label))"
   ]
  },
  {
   "cell_type": "markdown",
   "metadata": {},
   "source": [
    "The poly kernel took forever to train, so I normalized the columns help the model perform better. This is the worst of the kernels, however."
   ]
  },
  {
   "cell_type": "markdown",
   "metadata": {},
   "source": [
    "Next I will apply the RBF kernel to see the predicted classifications for younger players."
   ]
  },
  {
   "cell_type": "code",
   "execution_count": 15,
   "metadata": {},
   "outputs": [
    {
     "name": "stdout",
     "output_type": "stream",
     "text": [
      "[[ 0 98]\n",
      " [ 0  0]]\n",
      "             precision    recall  f1-score   support\n",
      "\n",
      "          0       0.00      0.00      0.00        98\n",
      "          1       0.00      0.00      0.00         0\n",
      "\n",
      "avg / total       0.00      0.00      0.00        98\n",
      "\n",
      "0.0\n"
     ]
    },
    {
     "name": "stderr",
     "output_type": "stream",
     "text": [
      "C:\\Users\\jho\\AppData\\Local\\Continuum\\anaconda3\\lib\\site-packages\\sklearn\\utils\\validation.py:578: DataConversionWarning: A column-vector y was passed when a 1d array was expected. Please change the shape of y to (n_samples, ), for example using ravel().\n",
      "  y = column_or_1d(y, warn=True)\n",
      "C:\\Users\\jho\\AppData\\Local\\Continuum\\anaconda3\\lib\\site-packages\\sklearn\\metrics\\classification.py:1135: UndefinedMetricWarning: Precision and F-score are ill-defined and being set to 0.0 in labels with no predicted samples.\n",
      "  'precision', 'predicted', average, warn_for)\n",
      "C:\\Users\\jho\\AppData\\Local\\Continuum\\anaconda3\\lib\\site-packages\\sklearn\\metrics\\classification.py:1137: UndefinedMetricWarning: Recall and F-score are ill-defined and being set to 0.0 in labels with no true samples.\n",
      "  'recall', 'true', average, warn_for)\n"
     ]
    }
   ],
   "source": [
    "# split data for training and testing\n",
    "\n",
    "X_train, X_test, y_train, y_test = train_test_split(X, y, test_size=0)\n",
    "\n",
    "# create the logreg classifier\n",
    "model = svm.SVC(kernel='linear')\n",
    "\n",
    "# fit the classifier to the training data\n",
    "model.fit(X_train, y_train)\n",
    "\n",
    "# predict the labels of the test set\n",
    "y_pred = model.predict(players_new[cols])\n",
    "\n",
    "# confusion matrix, classification report, and accuracy score\n",
    "print(confusion_matrix(players_new['TARGET_5Yrs'], y_pred))\n",
    "print(classification_report(players_new['TARGET_5Yrs'], y_pred))\n",
    "print(accuracy_score(y_pred, players_new['TARGET_5Yrs']))"
   ]
  },
  {
   "cell_type": "markdown",
   "metadata": {},
   "source": [
    "Based on the confusion matrix above, all of the young players are classified as playing in the NBA for at least five years with the RBF kernel SVM. Since 95% of the old players were classified correctly according to the model, 100% of the younger players will play for at least 5 years. This will be interesting to verify in 5 years. "
   ]
  }
 ],
 "metadata": {
  "kernelspec": {
   "display_name": "Python 3",
   "language": "python",
   "name": "python3"
  },
  "language_info": {
   "codemirror_mode": {
    "name": "ipython",
    "version": 3
   },
   "file_extension": ".py",
   "mimetype": "text/x-python",
   "name": "python",
   "nbconvert_exporter": "python",
   "pygments_lexer": "ipython3",
   "version": "3.6.3"
  }
 },
 "nbformat": 4,
 "nbformat_minor": 2
}
